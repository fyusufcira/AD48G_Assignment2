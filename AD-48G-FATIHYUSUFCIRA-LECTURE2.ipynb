{
 "cells": [
  {
   "cell_type": "code",
   "execution_count": 1,
   "id": "f2829f98-08fe-4f76-97cd-f6f77fe833c7",
   "metadata": {
    "tags": [],
    "vscode": {
     "languageId": "r"
    }
   },
   "outputs": [],
   "source": [
    "library(data.table)\n",
    "\n",
    "library(ggplot2)"
   ]
  },
  {
   "cell_type": "code",
   "execution_count": null,
   "id": "9b1fa846-4702-457f-86b8-6b63c336cc7c",
   "metadata": {
    "tags": [],
    "vscode": {
     "languageId": "r"
    }
   },
   "outputs": [],
   "source": [
    "library(tidyverse)\n",
    "\n",
    "library(tidyverse)\n",
    "library(magrittr)\n",
    "library(nycflights13)\n",
    "library(DT)"
   ]
  },
  {
   "cell_type": "code",
   "execution_count": null,
   "id": "eb88173c-4d1b-478a-b8e6-8176f93423f6",
   "metadata": {
    "tags": [],
    "vscode": {
     "languageId": "r"
    }
   },
   "outputs": [],
   "source": [
    "diamonds_dt <- as.data.table(diamonds)\n",
    "\n",
    "head(diamonds_dt)"
   ]
  },
  {
   "cell_type": "markdown",
   "id": "732384e5-aa4c-4da8-ab0b-f2c77f7cd182",
   "metadata": {},
   "source": [
    "<h1>SELECT"
   ]
  },
  {
   "cell_type": "code",
   "execution_count": null,
   "id": "6d0a3387-cf5a-42ca-8930-a5d46f9913c3",
   "metadata": {
    "tags": [],
    "vscode": {
     "languageId": "r"
    }
   },
   "outputs": [],
   "source": [
    "diamonds_dt %>% select(cut, clarity, price)"
   ]
  },
  {
   "cell_type": "markdown",
   "id": "10dd02a9-c61d-43dc-9324-e52315e2c16f",
   "metadata": {},
   "source": [
    "<h1>FILTER"
   ]
  },
  {
   "cell_type": "code",
   "execution_count": null,
   "id": "c2cb77c9-d2fb-46a9-910d-7b40a44ca9df",
   "metadata": {
    "tags": [],
    "vscode": {
     "languageId": "r"
    }
   },
   "outputs": [],
   "source": [
    "diamonds_dt %>%\n",
    "filter(cut == \"Premium\" & price > 500)"
   ]
  },
  {
   "cell_type": "markdown",
   "id": "c1b6c0ac-b1b7-44ad-9bd7-111d25e92d45",
   "metadata": {},
   "source": [
    "<H1>MUTATE"
   ]
  },
  {
   "cell_type": "code",
   "execution_count": 6,
   "id": "0d44b0d7-42d0-45c1-8c7f-233021888d6f",
   "metadata": {
    "tags": [],
    "vscode": {
     "languageId": "r"
    }
   },
   "outputs": [],
   "source": [
    "diamonds_dt %<>%\n",
    "  mutate(price_carat_ratio = price / carat)"
   ]
  },
  {
   "cell_type": "markdown",
   "id": "cedb0aba-3050-474e-be26-204a85de7b3d",
   "metadata": {},
   "source": [
    "<h1>GROUP BY + SUMMARISE"
   ]
  },
  {
   "cell_type": "code",
   "execution_count": null,
   "id": "2ec9bdbc-f681-4365-b304-eba34255b07a",
   "metadata": {
    "tags": [],
    "vscode": {
     "languageId": "r"
    }
   },
   "outputs": [],
   "source": [
    "diamonds_dt %>%\n",
    "group_by(cut) %>%\n",
    "summarise(max_price = max(price, na.rm = T))"
   ]
  },
  {
   "cell_type": "markdown",
   "id": "3054a5c2-d61f-4402-9833-accb933ac1b9",
   "metadata": {},
   "source": [
    "<H1>PIVOT WIDER"
   ]
  },
  {
   "cell_type": "code",
   "execution_count": 8,
   "id": "e76495f9-2dc2-4946-81ee-a52421ef32c0",
   "metadata": {
    "tags": [],
    "vscode": {
     "languageId": "r"
    }
   },
   "outputs": [],
   "source": [
    "diamonds_dt_as <- diamonds_dt %>%\n",
    "  group_by(cut, color) %>%\n",
    "  summarise(max_price = max(price, na.rm = TRUE),\n",
    "            min_price = min(price, na.rm = TRUE),\n",
    "            av_price = mean(price, na.rm = TRUE),\n",
    "            .groups = 'drop')"
   ]
  },
  {
   "cell_type": "code",
   "execution_count": null,
   "id": "ea38dc10-5750-4565-91eb-27e8d0c1643a",
   "metadata": {
    "tags": [],
    "vscode": {
     "languageId": "r"
    }
   },
   "outputs": [],
   "source": [
    "head(diamonds_dt_as)"
   ]
  },
  {
   "cell_type": "code",
   "execution_count": 10,
   "id": "eff86f33-2c9f-43f8-862a-13d0d151d92c",
   "metadata": {
    "tags": [],
    "vscode": {
     "languageId": "r"
    }
   },
   "outputs": [],
   "source": [
    "diamonds_dt_at_wide <- diamonds_dt_as %>% pivot_wider(id_cols = cut, names_from = color, values_from = av_price)"
   ]
  },
  {
   "cell_type": "code",
   "execution_count": null,
   "id": "aa399cee-de9e-453a-804f-c47a774f0652",
   "metadata": {
    "tags": [],
    "vscode": {
     "languageId": "r"
    }
   },
   "outputs": [],
   "source": [
    "diamonds_dt_at_wide"
   ]
  },
  {
   "cell_type": "markdown",
   "id": "3aebd657-6fb0-4ba1-bf16-0bbe65e488ee",
   "metadata": {
    "tags": []
   },
   "source": [
    "<H1>PIVOT LONGER"
   ]
  },
  {
   "cell_type": "code",
   "execution_count": null,
   "id": "16acbd00-4f07-442a-a13c-dc825ed37bf8",
   "metadata": {
    "tags": [],
    "vscode": {
     "languageId": "r"
    }
   },
   "outputs": [],
   "source": [
    "diamonds_dt_at_wide %>% pivot_longer(cols = -\"cut\", names_to = \"color2\", values_to = \"av_price2\", values_drop_na = T)"
   ]
  },
  {
   "cell_type": "markdown",
   "id": "9293d92b-737b-4978-8792-ca5cff740efb",
   "metadata": {},
   "source": [
    "<H1>LEFT JOIN"
   ]
  },
  {
   "cell_type": "code",
   "execution_count": null,
   "id": "20be8eb4-df91-451d-8b6b-83c0cb28b374",
   "metadata": {
    "tags": [],
    "vscode": {
     "languageId": "r"
    }
   },
   "outputs": [],
   "source": [
    "head(diamonds_dt)"
   ]
  },
  {
   "cell_type": "code",
   "execution_count": 14,
   "id": "fea4b9f2-3bf8-4cf6-8847-88f31fbfcf2a",
   "metadata": {
    "tags": [],
    "vscode": {
     "languageId": "r"
    }
   },
   "outputs": [],
   "source": [
    "new_table<- diamonds_dt %>%\n",
    "select(carat,cut,price,price_carat_ratio)%>%\n",
    "filter(carat>0.2)%>%\n",
    "group_by(cut)%>%\n",
    "summarize(avg_price=mean(price),avg_price_carat_ratio=mean(price_carat_ratio))"
   ]
  },
  {
   "cell_type": "code",
   "execution_count": 15,
   "id": "e3825380-01b6-478a-bef5-82f96de2994a",
   "metadata": {
    "tags": [],
    "vscode": {
     "languageId": "r"
    }
   },
   "outputs": [],
   "source": [
    "result<- diamonds_dt%>%\n",
    "left_join(new_table,by=\"cut\")"
   ]
  },
  {
   "cell_type": "code",
   "execution_count": null,
   "id": "ada4605d-2949-4253-9433-9f46148fe6e5",
   "metadata": {
    "tags": [],
    "vscode": {
     "languageId": "r"
    }
   },
   "outputs": [],
   "source": [
    "head(result)"
   ]
  }
 ],
 "metadata": {
  "kernelspec": {
   "display_name": "R",
   "language": "R",
   "name": "ir"
  },
  "language_info": {
   "codemirror_mode": "r",
   "file_extension": ".r",
   "mimetype": "text/x-r-source",
   "name": "R",
   "pygments_lexer": "r",
   "version": "4.2.1"
  }
 },
 "nbformat": 4,
 "nbformat_minor": 5
}
